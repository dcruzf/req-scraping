{
 "cells": [
  {
   "cell_type": "code",
   "execution_count": 1,
   "id": "5adc9f8c-71d5-486a-a91c-59537ae3dddd",
   "metadata": {
    "tags": []
   },
   "outputs": [
    {
     "name": "stdout",
     "output_type": "stream",
     "text": [
      "WARNING: sun.reflect.Reflection.getCallerClass is not supported. This will impact performance.\n"
     ]
    }
   ],
   "source": [
    "from vlibras_translate.translation import Translation"
   ]
  },
  {
   "cell_type": "code",
   "execution_count": 2,
   "id": "ee14128d-9e7e-4cbc-a0a5-b21e3b699244",
   "metadata": {
    "tags": []
   },
   "outputs": [],
   "source": [
    "t = Translation()"
   ]
  },
  {
   "cell_type": "code",
   "execution_count": 4,
   "id": "dd110956-6b37-4ab6-b551-598c1140841b",
   "metadata": {
    "tags": []
   },
   "outputs": [
    {
     "data": {
      "text/plain": [
       "\u001b[0;31mSignature:\u001b[0m \u001b[0mt\u001b[0m\u001b[0;34m.\u001b[0m\u001b[0mrule_translation_with_dl\u001b[0m\u001b[0;34m(\u001b[0m\u001b[0mphrase\u001b[0m\u001b[0;34m,\u001b[0m \u001b[0mforce_model_dir\u001b[0m\u001b[0;34m=\u001b[0m\u001b[0;32mNone\u001b[0m\u001b[0;34m)\u001b[0m\u001b[0;34m\u001b[0m\u001b[0;34m\u001b[0m\u001b[0m\n",
       "\u001b[0;31mDocstring:\u001b[0m\n",
       "Versão alterada da função rule_translation para uso com o módulo de deep learning.\n",
       "        \n",
       "\u001b[0;31mFile:\u001b[0m      /usr/local/lib/python3.8/site-packages/vlibras_translate/translation.py\n",
       "\u001b[0;31mType:\u001b[0m      method"
      ]
     },
     "metadata": {},
     "output_type": "display_data"
    }
   ],
   "source": [
    "t.rule_translation_with_dl?"
   ]
  },
  {
   "cell_type": "code",
   "execution_count": 8,
   "id": "34be34a5-005f-4fb6-a196-cdc820c37662",
   "metadata": {
    "tags": []
   },
   "outputs": [
    {
     "data": {
      "text/plain": [
       "'MARIA COMPRAR&DINHEIRO 5 PÃO [PONTO]'"
      ]
     },
     "execution_count": 8,
     "metadata": {},
     "output_type": "execute_result"
    }
   ],
   "source": [
    "Translation(cardinal=True).rule_translation_with_dl(\"Maria Comprou cinco pães.\")"
   ]
  },
  {
   "cell_type": "code",
   "execution_count": 9,
   "id": "0d6b0f7e-6cbd-45b7-8d4f-295dfa820b88",
   "metadata": {
    "tags": []
   },
   "outputs": [],
   "source": [
    "import pandas as pd"
   ]
  },
  {
   "cell_type": "code",
   "execution_count": 13,
   "id": "41d5ce71-8299-4d1f-ba4c-8b419d487952",
   "metadata": {
    "tags": []
   },
   "outputs": [],
   "source": [
    "df = pd.read_csv(\"dados_new_12_5.csv\").fillna(\"\")"
   ]
  },
  {
   "cell_type": "code",
   "execution_count": 18,
   "id": "ba857934-bdb6-4b43-8fd9-e71810e06122",
   "metadata": {
    "tags": []
   },
   "outputs": [
    {
     "data": {
      "text/html": [
       "<div>\n",
       "<style scoped>\n",
       "    .dataframe tbody tr th:only-of-type {\n",
       "        vertical-align: middle;\n",
       "    }\n",
       "\n",
       "    .dataframe tbody tr th {\n",
       "        vertical-align: top;\n",
       "    }\n",
       "\n",
       "    .dataframe thead th {\n",
       "        text-align: right;\n",
       "    }\n",
       "</style>\n",
       "<table border=\"1\" class=\"dataframe\">\n",
       "  <thead>\n",
       "    <tr style=\"text-align: right;\">\n",
       "      <th></th>\n",
       "      <th>url</th>\n",
       "      <th>sentence</th>\n",
       "    </tr>\n",
       "  </thead>\n",
       "  <tbody>\n",
       "    <tr>\n",
       "      <th>0</th>\n",
       "      <td>https://www.gov.br/pt-br/servicos/obter-bolsa-...</td>\n",
       "      <td>Órgãos do Governo</td>\n",
       "    </tr>\n",
       "    <tr>\n",
       "      <th>1</th>\n",
       "      <td>https://www.gov.br/pt-br/servicos/obter-bolsa-...</td>\n",
       "      <td>Acesso à Informação</td>\n",
       "    </tr>\n",
       "    <tr>\n",
       "      <th>2</th>\n",
       "      <td>https://www.gov.br/pt-br/servicos/obter-bolsa-...</td>\n",
       "      <td>Legislação</td>\n",
       "    </tr>\n",
       "    <tr>\n",
       "      <th>3</th>\n",
       "      <td>https://www.gov.br/pt-br/servicos/obter-bolsa-...</td>\n",
       "      <td>Acessibilidade</td>\n",
       "    </tr>\n",
       "    <tr>\n",
       "      <th>4</th>\n",
       "      <td>https://www.gov.br/pt-br/servicos/obter-bolsa-...</td>\n",
       "      <td>Serviços e Informações do Brasil</td>\n",
       "    </tr>\n",
       "    <tr>\n",
       "      <th>...</th>\n",
       "      <td>...</td>\n",
       "      <td>...</td>\n",
       "    </tr>\n",
       "    <tr>\n",
       "      <th>620167</th>\n",
       "      <td>https://www.gov.br/pt-br/servicos/suspender-ou...</td>\n",
       "      <td>Painel de Compras do Governo Federal</td>\n",
       "    </tr>\n",
       "    <tr>\n",
       "      <th>620168</th>\n",
       "      <td>https://www.gov.br/pt-br/servicos/suspender-ou...</td>\n",
       "      <td>Acesso à Informação</td>\n",
       "    </tr>\n",
       "    <tr>\n",
       "      <th>620169</th>\n",
       "      <td>https://www.gov.br/pt-br/servicos/suspender-ou...</td>\n",
       "      <td>Redefinir Cookies</td>\n",
       "    </tr>\n",
       "    <tr>\n",
       "      <th>620170</th>\n",
       "      <td>https://www.gov.br/pt-br/servicos/suspender-ou...</td>\n",
       "      <td>Redes sociais</td>\n",
       "    </tr>\n",
       "    <tr>\n",
       "      <th>620171</th>\n",
       "      <td>https://www.gov.br/pt-br/servicos/suspender-ou...</td>\n",
       "      <td>Todo o conteúdo deste site está publicado sob ...</td>\n",
       "    </tr>\n",
       "  </tbody>\n",
       "</table>\n",
       "<p>620172 rows × 2 columns</p>\n",
       "</div>"
      ],
      "text/plain": [
       "                                                      url   \n",
       "0       https://www.gov.br/pt-br/servicos/obter-bolsa-...  \\\n",
       "1       https://www.gov.br/pt-br/servicos/obter-bolsa-...   \n",
       "2       https://www.gov.br/pt-br/servicos/obter-bolsa-...   \n",
       "3       https://www.gov.br/pt-br/servicos/obter-bolsa-...   \n",
       "4       https://www.gov.br/pt-br/servicos/obter-bolsa-...   \n",
       "...                                                   ...   \n",
       "620167  https://www.gov.br/pt-br/servicos/suspender-ou...   \n",
       "620168  https://www.gov.br/pt-br/servicos/suspender-ou...   \n",
       "620169  https://www.gov.br/pt-br/servicos/suspender-ou...   \n",
       "620170  https://www.gov.br/pt-br/servicos/suspender-ou...   \n",
       "620171  https://www.gov.br/pt-br/servicos/suspender-ou...   \n",
       "\n",
       "                                                 sentence  \n",
       "0                                       Órgãos do Governo  \n",
       "1                                     Acesso à Informação  \n",
       "2                                              Legislação  \n",
       "3                                          Acessibilidade  \n",
       "4                        Serviços e Informações do Brasil  \n",
       "...                                                   ...  \n",
       "620167               Painel de Compras do Governo Federal  \n",
       "620168                                Acesso à Informação  \n",
       "620169                                  Redefinir Cookies  \n",
       "620170                                      Redes sociais  \n",
       "620171  Todo o conteúdo deste site está publicado sob ...  \n",
       "\n",
       "[620172 rows x 2 columns]"
      ]
     },
     "execution_count": 18,
     "metadata": {},
     "output_type": "execute_result"
    }
   ],
   "source": [
    "df.columns = [\"url\", \"sentence\"]\n",
    "df"
   ]
  },
  {
   "cell_type": "code",
   "execution_count": 20,
   "id": "e8a1aace-1e38-42ce-9b80-dcdb122906c6",
   "metadata": {
    "tags": []
   },
   "outputs": [],
   "source": [
    "df = df.drop_duplicates(subset=[\"sentence\"])\n",
    "df = df[df.sentence.str.split().apply(len) > 2]"
   ]
  },
  {
   "cell_type": "code",
   "execution_count": 30,
   "id": "5cb97932-b62f-4b64-a082-3d1f576a8990",
   "metadata": {
    "tags": []
   },
   "outputs": [],
   "source": [
    "def apply(s):\n",
    "    try:\n",
    "        return t.rule_translation_with_dl(s)\n",
    "    except:\n",
    "        return \"\""
   ]
  },
  {
   "cell_type": "code",
   "execution_count": 31,
   "id": "4f52ca43-aa10-47f3-803b-ea5533ab666b",
   "metadata": {
    "tags": []
   },
   "outputs": [
    {
     "name": "stdout",
     "output_type": "stream",
     "text": [
      "11:46:09.067 [main] ERROR org.cogroo.dictionary.impl.FSADictionary - Got invalid entry from FSA dictionary: WordData[d,null,AAA+adj]\n",
      "11:46:09.068 [main] ERROR org.cogroo.dictionary.impl.FSADictionary - Got invalid entry from FSA dictionary: WordData[d,null,AAA+adj]\n",
      "11:46:09.068 [main] ERROR org.cogroo.dictionary.impl.FSADictionary - Got invalid entry from FSA dictionary: WordData[d,null,AAA+adj]\n",
      "11:46:09.068 [main] ERROR org.cogroo.dictionary.impl.FSADictionary - Got invalid entry from FSA dictionary: WordData[d,null,AAA+adj]\n",
      "11:46:09.068 [main] ERROR org.cogroo.dictionary.impl.FSADictionary - Got invalid entry from FSA dictionary: WordData[d,null,AAA+adj]\n",
      "11:46:09.068 [main] ERROR org.cogroo.dictionary.impl.FSADictionary - Got invalid entry from FSA dictionary: WordData[d,null,AAA+adj]\n",
      "11:46:09.068 [main] ERROR org.cogroo.dictionary.impl.FSADictionary - Got invalid entry from FSA dictionary: WordData[d,null,AAA+adj]\n",
      "11:46:09.068 [main] ERROR org.cogroo.dictionary.impl.FSADictionary - Got invalid entry from FSA dictionary: WordData[d,null,AAA+adj]\n",
      "11:46:09.068 [main] ERROR org.cogroo.dictionary.impl.FSADictionary - Got invalid entry from FSA dictionary: WordData[d,null,AAA+adj]\n",
      "11:46:09.068 [main] ERROR org.cogroo.dictionary.impl.FSADictionary - Got invalid entry from FSA dictionary: WordData[d,null,AAA+adj]\n",
      "11:46:09.068 [main] ERROR org.cogroo.dictionary.impl.FSADictionary - Got invalid entry from FSA dictionary: WordData[d,null,AAA+adj]\n",
      "11:46:09.069 [main] ERROR org.cogroo.dictionary.impl.FSADictionary - Got invalid entry from FSA dictionary: WordData[d,null,AAA+adj]\n",
      "12:53:37.115 [main] ERROR org.cogroo.dictionary.impl.FSADictionary - Got invalid entry from FSA dictionary: WordData[d,null,AAA+adj]\n",
      "12:53:37.115 [main] ERROR org.cogroo.dictionary.impl.FSADictionary - Got invalid entry from FSA dictionary: WordData[d,null,AAA+adj]\n",
      "12:53:37.115 [main] ERROR org.cogroo.dictionary.impl.FSADictionary - Got invalid entry from FSA dictionary: WordData[d,null,AAA+adj]\n",
      "12:53:37.115 [main] ERROR org.cogroo.dictionary.impl.FSADictionary - Got invalid entry from FSA dictionary: WordData[d,null,AAA+adj]\n",
      "12:53:37.115 [main] ERROR org.cogroo.dictionary.impl.FSADictionary - Got invalid entry from FSA dictionary: WordData[d,null,AAA+adj]\n",
      "12:53:37.115 [main] ERROR org.cogroo.dictionary.impl.FSADictionary - Got invalid entry from FSA dictionary: WordData[d,null,AAA+adj]\n",
      "13:41:59.823 [main] ERROR org.cogroo.dictionary.impl.FSADictionary - Got invalid entry from FSA dictionary: WordData[d,null,AAA+adj]\n",
      "13:41:59.824 [main] ERROR org.cogroo.dictionary.impl.FSADictionary - Got invalid entry from FSA dictionary: WordData[d,null,AAA+adj]\n",
      "13:41:59.824 [main] ERROR org.cogroo.dictionary.impl.FSADictionary - Got invalid entry from FSA dictionary: WordData[d,null,AAA+adj]\n",
      "13:41:59.824 [main] ERROR org.cogroo.dictionary.impl.FSADictionary - Got invalid entry from FSA dictionary: WordData[d,null,AAA+adj]\n",
      "13:41:59.824 [main] ERROR org.cogroo.dictionary.impl.FSADictionary - Got invalid entry from FSA dictionary: WordData[d,null,AAA+adj]\n",
      "13:41:59.824 [main] ERROR org.cogroo.dictionary.impl.FSADictionary - Got invalid entry from FSA dictionary: WordData[d,null,AAA+adj]\n",
      "15:38:25.418 [main] ERROR org.cogroo.dictionary.impl.FSADictionary - Got invalid entry from FSA dictionary: WordData[d,null,AAA+adj]\n",
      "15:38:25.419 [main] ERROR org.cogroo.dictionary.impl.FSADictionary - Got invalid entry from FSA dictionary: WordData[d,null,AAA+adj]\n",
      "15:38:25.419 [main] ERROR org.cogroo.dictionary.impl.FSADictionary - Got invalid entry from FSA dictionary: WordData[d,null,AAA+adj]\n",
      "15:38:25.419 [main] ERROR org.cogroo.dictionary.impl.FSADictionary - Got invalid entry from FSA dictionary: WordData[d,null,AAA+adj]\n",
      "15:38:25.419 [main] ERROR org.cogroo.dictionary.impl.FSADictionary - Got invalid entry from FSA dictionary: WordData[d,null,AAA+adj]\n",
      "15:38:25.419 [main] ERROR org.cogroo.dictionary.impl.FSADictionary - Got invalid entry from FSA dictionary: WordData[d,null,AAA+adj]\n",
      "17:30:57.311 [main] ERROR org.cogroo.dictionary.impl.FSADictionary - Got invalid entry from FSA dictionary: WordData[d,null,AAA+adj]\n",
      "17:30:57.312 [main] ERROR org.cogroo.dictionary.impl.FSADictionary - Got invalid entry from FSA dictionary: WordData[d,null,AAA+adj]\n",
      "17:30:57.312 [main] ERROR org.cogroo.dictionary.impl.FSADictionary - Got invalid entry from FSA dictionary: WordData[d,null,AAA+adj]\n",
      "17:30:57.312 [main] ERROR org.cogroo.dictionary.impl.FSADictionary - Got invalid entry from FSA dictionary: WordData[d,null,AAA+adj]\n",
      "17:30:57.312 [main] ERROR org.cogroo.dictionary.impl.FSADictionary - Got invalid entry from FSA dictionary: WordData[d,null,AAA+adj]\n",
      "17:30:57.312 [main] ERROR org.cogroo.dictionary.impl.FSADictionary - Got invalid entry from FSA dictionary: WordData[d,null,AAA+adj]\n",
      "21:42:15.670 [main] ERROR org.cogroo.dictionary.impl.FSADictionary - Got invalid entry from FSA dictionary: WordData[d,null,AAA+adj]\n",
      "21:42:15.670 [main] ERROR org.cogroo.dictionary.impl.FSADictionary - Got invalid entry from FSA dictionary: WordData[d,null,AAA+adj]\n",
      "21:42:15.670 [main] ERROR org.cogroo.dictionary.impl.FSADictionary - Got invalid entry from FSA dictionary: WordData[d,null,AAA+adj]\n",
      "21:42:15.670 [main] ERROR org.cogroo.dictionary.impl.FSADictionary - Got invalid entry from FSA dictionary: WordData[d,null,AAA+adj]\n",
      "21:42:15.670 [main] ERROR org.cogroo.dictionary.impl.FSADictionary - Got invalid entry from FSA dictionary: WordData[d,null,AAA+adj]\n",
      "21:42:15.670 [main] ERROR org.cogroo.dictionary.impl.FSADictionary - Got invalid entry from FSA dictionary: WordData[d,null,AAA+adj]\n"
     ]
    }
   ],
   "source": [
    "df = df.assign(translate = df.sentence.apply(apply))"
   ]
  },
  {
   "cell_type": "code",
   "execution_count": 32,
   "id": "9f48c3b1-a4c4-407b-a0ec-045f55e96ffd",
   "metadata": {
    "tags": []
   },
   "outputs": [],
   "source": [
    "df.to_csv(\"translate.csv\")"
   ]
  },
  {
   "cell_type": "code",
   "execution_count": 33,
   "id": "442f7d76-a578-43c3-8723-59eb593c6e94",
   "metadata": {
    "tags": []
   },
   "outputs": [
    {
     "data": {
      "text/html": [
       "<div>\n",
       "<style scoped>\n",
       "    .dataframe tbody tr th:only-of-type {\n",
       "        vertical-align: middle;\n",
       "    }\n",
       "\n",
       "    .dataframe tbody tr th {\n",
       "        vertical-align: top;\n",
       "    }\n",
       "\n",
       "    .dataframe thead th {\n",
       "        text-align: right;\n",
       "    }\n",
       "</style>\n",
       "<table border=\"1\" class=\"dataframe\">\n",
       "  <thead>\n",
       "    <tr style=\"text-align: right;\">\n",
       "      <th></th>\n",
       "      <th>url</th>\n",
       "      <th>sentence</th>\n",
       "      <th>translate</th>\n",
       "    </tr>\n",
       "  </thead>\n",
       "  <tbody>\n",
       "    <tr>\n",
       "      <th>0</th>\n",
       "      <td>https://www.gov.br/pt-br/servicos/obter-bolsa-...</td>\n",
       "      <td>Órgãos do Governo</td>\n",
       "      <td>ÓRGÃO GOVERNO</td>\n",
       "    </tr>\n",
       "    <tr>\n",
       "      <th>1</th>\n",
       "      <td>https://www.gov.br/pt-br/servicos/obter-bolsa-...</td>\n",
       "      <td>Acesso à Informação</td>\n",
       "      <td>ACESSO INFORMAÇÃO</td>\n",
       "    </tr>\n",
       "    <tr>\n",
       "      <th>4</th>\n",
       "      <td>https://www.gov.br/pt-br/servicos/obter-bolsa-...</td>\n",
       "      <td>Serviços e Informações do Brasil</td>\n",
       "      <td>SERVIÇO INFORMAÇÃO BRASIL&amp;PAÍS</td>\n",
       "    </tr>\n",
       "    <tr>\n",
       "      <th>6</th>\n",
       "      <td>https://www.gov.br/pt-br/servicos/obter-bolsa-...</td>\n",
       "      <td>Obter bolsa-prêmio do Programa de Ação Afirmat...</td>\n",
       "      <td>OBTER BOLSA&amp;ESTUDO PRÊMIO PROGRAMA&amp;PROJETO AÇÃ...</td>\n",
       "    </tr>\n",
       "    <tr>\n",
       "      <th>10</th>\n",
       "      <td>https://www.gov.br/pt-br/servicos/obter-bolsa-...</td>\n",
       "      <td>Obter bolsa-prêmio do Programa de Ação Afirmat...</td>\n",
       "      <td>OBTER BOLSA&amp;ESTUDO PRÊMIO PROGRAMA&amp;PROJETO AÇÃ...</td>\n",
       "    </tr>\n",
       "    <tr>\n",
       "      <th>...</th>\n",
       "      <td>...</td>\n",
       "      <td>...</td>\n",
       "      <td>...</td>\n",
       "    </tr>\n",
       "    <tr>\n",
       "      <th>620061</th>\n",
       "      <td>https://www.gov.br/pt-br/servicos/suspender-ou...</td>\n",
       "      <td>Por fim, clicar na opção \"Suspender a pedido\" ...</td>\n",
       "      <td>FIM CLICAR&amp;BOTÃO OPÇÃO SUSPENDER&amp;INTERROMPER 1...</td>\n",
       "    </tr>\n",
       "    <tr>\n",
       "      <th>620067</th>\n",
       "      <td>https://www.gov.br/pt-br/servicos/suspender-ou...</td>\n",
       "      <td>Cancelar o cadastro de empresa baixada na Rece...</td>\n",
       "      <td>CANCELAR CADASTRO EMPRESA BAIXAR&amp;ARQUIVO RECEI...</td>\n",
       "    </tr>\n",
       "    <tr>\n",
       "      <th>620068</th>\n",
       "      <td>https://www.gov.br/pt-br/servicos/suspender-ou...</td>\n",
       "      <td>Caso o CNPJ tenha sido baixado na Receita Fede...</td>\n",
       "      <td>CASO&amp;EVENTO CNPJ TER BAIXAR&amp;ARQUIVO RECEITA&amp;MO...</td>\n",
       "    </tr>\n",
       "    <tr>\n",
       "      <th>620069</th>\n",
       "      <td>https://www.gov.br/pt-br/servicos/suspender-ou...</td>\n",
       "      <td>Antes dessa ação, esse dado deve ter ser sido ...</td>\n",
       "      <td>ANTES&amp;ANTERIOR AÇÃO&amp;ATO DADO&amp;INFORMAÇÃO DEVER&amp;...</td>\n",
       "    </tr>\n",
       "    <tr>\n",
       "      <th>620079</th>\n",
       "      <td>https://www.gov.br/pt-br/servicos/suspender-ou...</td>\n",
       "      <td>A suspensão está condicionada à análise do órg...</td>\n",
       "      <td>SUSPENSÃO CONDICIONAR ANÁLISE ÓRGÃO&amp;INSTITUIÇÃ...</td>\n",
       "    </tr>\n",
       "  </tbody>\n",
       "</table>\n",
       "<p>63815 rows × 3 columns</p>\n",
       "</div>"
      ],
      "text/plain": [
       "                                                      url   \n",
       "0       https://www.gov.br/pt-br/servicos/obter-bolsa-...  \\\n",
       "1       https://www.gov.br/pt-br/servicos/obter-bolsa-...   \n",
       "4       https://www.gov.br/pt-br/servicos/obter-bolsa-...   \n",
       "6       https://www.gov.br/pt-br/servicos/obter-bolsa-...   \n",
       "10      https://www.gov.br/pt-br/servicos/obter-bolsa-...   \n",
       "...                                                   ...   \n",
       "620061  https://www.gov.br/pt-br/servicos/suspender-ou...   \n",
       "620067  https://www.gov.br/pt-br/servicos/suspender-ou...   \n",
       "620068  https://www.gov.br/pt-br/servicos/suspender-ou...   \n",
       "620069  https://www.gov.br/pt-br/servicos/suspender-ou...   \n",
       "620079  https://www.gov.br/pt-br/servicos/suspender-ou...   \n",
       "\n",
       "                                                 sentence   \n",
       "0                                       Órgãos do Governo  \\\n",
       "1                                     Acesso à Informação   \n",
       "4                        Serviços e Informações do Brasil   \n",
       "6       Obter bolsa-prêmio do Programa de Ação Afirmat...   \n",
       "10      Obter bolsa-prêmio do Programa de Ação Afirmat...   \n",
       "...                                                   ...   \n",
       "620061  Por fim, clicar na opção \"Suspender a pedido\" ...   \n",
       "620067  Cancelar o cadastro de empresa baixada na Rece...   \n",
       "620068  Caso o CNPJ tenha sido baixado na Receita Fede...   \n",
       "620069  Antes dessa ação, esse dado deve ter ser sido ...   \n",
       "620079  A suspensão está condicionada à análise do órg...   \n",
       "\n",
       "                                                translate  \n",
       "0                                           ÓRGÃO GOVERNO  \n",
       "1                                       ACESSO INFORMAÇÃO  \n",
       "4                          SERVIÇO INFORMAÇÃO BRASIL&PAÍS  \n",
       "6       OBTER BOLSA&ESTUDO PRÊMIO PROGRAMA&PROJETO AÇÃ...  \n",
       "10      OBTER BOLSA&ESTUDO PRÊMIO PROGRAMA&PROJETO AÇÃ...  \n",
       "...                                                   ...  \n",
       "620061  FIM CLICAR&BOTÃO OPÇÃO SUSPENDER&INTERROMPER 1...  \n",
       "620067  CANCELAR CADASTRO EMPRESA BAIXAR&ARQUIVO RECEI...  \n",
       "620068  CASO&EVENTO CNPJ TER BAIXAR&ARQUIVO RECEITA&MO...  \n",
       "620069  ANTES&ANTERIOR AÇÃO&ATO DADO&INFORMAÇÃO DEVER&...  \n",
       "620079  SUSPENSÃO CONDICIONAR ANÁLISE ÓRGÃO&INSTITUIÇÃ...  \n",
       "\n",
       "[63815 rows x 3 columns]"
      ]
     },
     "execution_count": 33,
     "metadata": {},
     "output_type": "execute_result"
    }
   ],
   "source": [
    "df"
   ]
  },
  {
   "cell_type": "code",
   "execution_count": 34,
   "id": "ee5513ee-95e9-4d7e-956c-c585e6f6cf08",
   "metadata": {
    "tags": []
   },
   "outputs": [
    {
     "data": {
      "text/html": [
       "<div>\n",
       "<style scoped>\n",
       "    .dataframe tbody tr th:only-of-type {\n",
       "        vertical-align: middle;\n",
       "    }\n",
       "\n",
       "    .dataframe tbody tr th {\n",
       "        vertical-align: top;\n",
       "    }\n",
       "\n",
       "    .dataframe thead th {\n",
       "        text-align: right;\n",
       "    }\n",
       "</style>\n",
       "<table border=\"1\" class=\"dataframe\">\n",
       "  <thead>\n",
       "    <tr style=\"text-align: right;\">\n",
       "      <th></th>\n",
       "      <th>url</th>\n",
       "      <th>sentence</th>\n",
       "      <th>translate</th>\n",
       "    </tr>\n",
       "  </thead>\n",
       "  <tbody>\n",
       "    <tr>\n",
       "      <th>74580</th>\n",
       "      <td>https://www.gov.br/pt-br/servicos/consultar-o-...</td>\n",
       "      <td>Instituto Nacional de Tecnologia</td>\n",
       "      <td></td>\n",
       "    </tr>\n",
       "    <tr>\n",
       "      <th>80306</th>\n",
       "      <td>https://www.gov.br/pt-br/servicos/visitar-o-ob...</td>\n",
       "      <td>- - -</td>\n",
       "      <td></td>\n",
       "    </tr>\n",
       "    <tr>\n",
       "      <th>375305</th>\n",
       "      <td>https://www.gov.br/pt-br/servicos/substituir-o...</td>\n",
       "      <td>Pessoa física ou jurídica que tenha prestado g...</td>\n",
       "      <td></td>\n",
       "    </tr>\n",
       "    <tr>\n",
       "      <th>420182</th>\n",
       "      <td>https://www.gov.br/pt-br/servicos/cadastrar-em...</td>\n",
       "      <td>Instrução do Comando da Aeronáutica (ICA 78-14...</td>\n",
       "      <td></td>\n",
       "    </tr>\n",
       "    <tr>\n",
       "      <th>426094</th>\n",
       "      <td>https://www.gov.br/pt-br/servicos/obter-autori...</td>\n",
       "      <td>FOP 207 – Manual geral de manutenção – MGM (IS...</td>\n",
       "      <td></td>\n",
       "    </tr>\n",
       "    <tr>\n",
       "      <th>426194</th>\n",
       "      <td>https://www.gov.br/pt-br/servicos/obter-autori...</td>\n",
       "      <td>IS nº 135.21-001</td>\n",
       "      <td></td>\n",
       "    </tr>\n",
       "    <tr>\n",
       "      <th>427120</th>\n",
       "      <td>https://www.gov.br/pt-br/servicos/obter-aprova...</td>\n",
       "      <td>Trata-se da proposição, com vistas à aprovação...</td>\n",
       "      <td></td>\n",
       "    </tr>\n",
       "    <tr>\n",
       "      <th>427131</th>\n",
       "      <td>https://www.gov.br/pt-br/servicos/obter-aprova...</td>\n",
       "      <td>Proposta de Método Alternativo de Cumprimento,...</td>\n",
       "      <td></td>\n",
       "    </tr>\n",
       "    <tr>\n",
       "      <th>427154</th>\n",
       "      <td>https://www.gov.br/pt-br/servicos/obter-aprova...</td>\n",
       "      <td>Instrução Suplementar (IS) 39.19-001</td>\n",
       "      <td></td>\n",
       "    </tr>\n",
       "    <tr>\n",
       "      <th>430048</th>\n",
       "      <td>https://www.gov.br/pt-br/servicos/obter-libera...</td>\n",
       "      <td>Comunicação de Conclusão de Reparo preenchido(...</td>\n",
       "      <td></td>\n",
       "    </tr>\n",
       "    <tr>\n",
       "      <th>430069</th>\n",
       "      <td>https://www.gov.br/pt-br/servicos/obter-libera...</td>\n",
       "      <td>IS nº 43.13-004.</td>\n",
       "      <td></td>\n",
       "    </tr>\n",
       "    <tr>\n",
       "      <th>433193</th>\n",
       "      <td>https://www.gov.br/pt-br/servicos/obter-certif...</td>\n",
       "      <td>Para informações sobre o código e a complexida...</td>\n",
       "      <td></td>\n",
       "    </tr>\n",
       "    <tr>\n",
       "      <th>488063</th>\n",
       "      <td>https://www.gov.br/pt-br/servicos/fazer-a-decl...</td>\n",
       "      <td>Agência Nacional de Águas</td>\n",
       "      <td></td>\n",
       "    </tr>\n",
       "    <tr>\n",
       "      <th>545910</th>\n",
       "      <td>https://www.gov.br/pt-br/servicos/solicitar-tr...</td>\n",
       "      <td>Portaria 204 - Lista Nacional de Notificação C...</td>\n",
       "      <td></td>\n",
       "    </tr>\n",
       "    <tr>\n",
       "      <th>546746</th>\n",
       "      <td>https://www.gov.br/pt-br/servicos/solicitar-tr...</td>\n",
       "      <td>Avenida Brasil, 4365 - Pavilhão Carlos Chagas ...</td>\n",
       "      <td></td>\n",
       "    </tr>\n",
       "    <tr>\n",
       "      <th>548714</th>\n",
       "      <td>https://www.gov.br/pt-br/servicos/obter-bolsas...</td>\n",
       "      <td>Portaria Conjunta SGTES/SE/MS nº 11 de 28 de d...</td>\n",
       "      <td></td>\n",
       "    </tr>\n",
       "    <tr>\n",
       "      <th>553881</th>\n",
       "      <td>https://www.gov.br/pt-br/servicos/receber-doac...</td>\n",
       "      <td>Avenida Brasil, 4365 - 5° andar - Salas 43,44,45</td>\n",
       "      <td></td>\n",
       "    </tr>\n",
       "    <tr>\n",
       "      <th>575078</th>\n",
       "      <td>https://www.gov.br/pt-br/servicos/solicitar-fo...</td>\n",
       "      <td>(21) 3348-5006 / 5007 / 5008 / 5050 e através ...</td>\n",
       "      <td></td>\n",
       "    </tr>\n",
       "    <tr>\n",
       "      <th>575100</th>\n",
       "      <td>https://www.gov.br/pt-br/servicos/solicitar-fo...</td>\n",
       "      <td>O contato para negociação pode ser feito pelos...</td>\n",
       "      <td></td>\n",
       "    </tr>\n",
       "    <tr>\n",
       "      <th>575127</th>\n",
       "      <td>https://www.gov.br/pt-br/servicos/solicitar-fo...</td>\n",
       "      <td>Telefone: 3348-5006 / 5007 / 5008, SAC (0800-0...</td>\n",
       "      <td></td>\n",
       "    </tr>\n",
       "  </tbody>\n",
       "</table>\n",
       "</div>"
      ],
      "text/plain": [
       "                                                      url   \n",
       "74580   https://www.gov.br/pt-br/servicos/consultar-o-...  \\\n",
       "80306   https://www.gov.br/pt-br/servicos/visitar-o-ob...   \n",
       "375305  https://www.gov.br/pt-br/servicos/substituir-o...   \n",
       "420182  https://www.gov.br/pt-br/servicos/cadastrar-em...   \n",
       "426094  https://www.gov.br/pt-br/servicos/obter-autori...   \n",
       "426194  https://www.gov.br/pt-br/servicos/obter-autori...   \n",
       "427120  https://www.gov.br/pt-br/servicos/obter-aprova...   \n",
       "427131  https://www.gov.br/pt-br/servicos/obter-aprova...   \n",
       "427154  https://www.gov.br/pt-br/servicos/obter-aprova...   \n",
       "430048  https://www.gov.br/pt-br/servicos/obter-libera...   \n",
       "430069  https://www.gov.br/pt-br/servicos/obter-libera...   \n",
       "433193  https://www.gov.br/pt-br/servicos/obter-certif...   \n",
       "488063  https://www.gov.br/pt-br/servicos/fazer-a-decl...   \n",
       "545910  https://www.gov.br/pt-br/servicos/solicitar-tr...   \n",
       "546746  https://www.gov.br/pt-br/servicos/solicitar-tr...   \n",
       "548714  https://www.gov.br/pt-br/servicos/obter-bolsas...   \n",
       "553881  https://www.gov.br/pt-br/servicos/receber-doac...   \n",
       "575078  https://www.gov.br/pt-br/servicos/solicitar-fo...   \n",
       "575100  https://www.gov.br/pt-br/servicos/solicitar-fo...   \n",
       "575127  https://www.gov.br/pt-br/servicos/solicitar-fo...   \n",
       "\n",
       "                                                 sentence translate  \n",
       "74580                    Instituto Nacional de Tecnologia            \n",
       "80306                                               - - -            \n",
       "375305  Pessoa física ou jurídica que tenha prestado g...            \n",
       "420182  Instrução do Comando da Aeronáutica (ICA 78-14...            \n",
       "426094  FOP 207 – Manual geral de manutenção – MGM (IS...            \n",
       "426194                                   IS nº 135.21-001            \n",
       "427120  Trata-se da proposição, com vistas à aprovação...            \n",
       "427131  Proposta de Método Alternativo de Cumprimento,...            \n",
       "427154               Instrução Suplementar (IS) 39.19-001            \n",
       "430048  Comunicação de Conclusão de Reparo preenchido(...            \n",
       "430069                                   IS nº 43.13-004.            \n",
       "433193  Para informações sobre o código e a complexida...            \n",
       "488063                          Agência Nacional de Águas            \n",
       "545910  Portaria 204 - Lista Nacional de Notificação C...            \n",
       "546746  Avenida Brasil, 4365 - Pavilhão Carlos Chagas ...            \n",
       "548714  Portaria Conjunta SGTES/SE/MS nº 11 de 28 de d...            \n",
       "553881   Avenida Brasil, 4365 - 5° andar - Salas 43,44,45            \n",
       "575078  (21) 3348-5006 / 5007 / 5008 / 5050 e através ...            \n",
       "575100  O contato para negociação pode ser feito pelos...            \n",
       "575127  Telefone: 3348-5006 / 5007 / 5008, SAC (0800-0...            "
      ]
     },
     "execution_count": 34,
     "metadata": {},
     "output_type": "execute_result"
    }
   ],
   "source": [
    "df[df.translate == \"\"]"
   ]
  },
  {
   "cell_type": "code",
   "execution_count": 35,
   "id": "f73ddb2e-6805-480f-94bb-99aeb56ada94",
   "metadata": {
    "tags": []
   },
   "outputs": [
    {
     "data": {
      "text/plain": [
       "(20, 3)"
      ]
     },
     "execution_count": 35,
     "metadata": {},
     "output_type": "execute_result"
    }
   ],
   "source": [
    "df[df.translate == \"\"].shape"
   ]
  },
  {
   "cell_type": "code",
   "execution_count": null,
   "id": "1cd2574c-459a-4ff6-945c-7d1b98ae70ee",
   "metadata": {},
   "outputs": [],
   "source": []
  }
 ],
 "metadata": {
  "kernelspec": {
   "display_name": "Python 3 (ipykernel)",
   "language": "python",
   "name": "python3"
  },
  "language_info": {
   "codemirror_mode": {
    "name": "ipython",
    "version": 3
   },
   "file_extension": ".py",
   "mimetype": "text/x-python",
   "name": "python",
   "nbconvert_exporter": "python",
   "pygments_lexer": "ipython3",
   "version": "3.8.16"
  }
 },
 "nbformat": 4,
 "nbformat_minor": 5
}
